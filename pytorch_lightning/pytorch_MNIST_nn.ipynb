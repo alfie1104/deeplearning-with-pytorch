{
  "nbformat": 4,
  "nbformat_minor": 0,
  "metadata": {
    "colab": {
      "provenance": [],
      "gpuType": "T4",
      "authorship_tag": "ABX9TyP9RHN8vOou3zXdISCpJOqN",
      "include_colab_link": true
    },
    "kernelspec": {
      "name": "python3",
      "display_name": "Python 3"
    },
    "language_info": {
      "name": "python"
    },
    "accelerator": "GPU"
  },
  "cells": [
    {
      "cell_type": "markdown",
      "metadata": {
        "id": "view-in-github",
        "colab_type": "text"
      },
      "source": [
        "<a href=\"https://colab.research.google.com/github/alfie1104/deeplearning-with-pytorch/blob/main/pytorch_lightning/pytorch_MNIST_nn.ipynb\" target=\"_parent\"><img src=\"https://colab.research.google.com/assets/colab-badge.svg\" alt=\"Open In Colab\"/></a>"
      ]
    },
    {
      "cell_type": "code",
      "execution_count": 1,
      "metadata": {
        "id": "IRPj-Sqsr1N2"
      },
      "outputs": [],
      "source": [
        "import torch\n",
        "from torch import nn"
      ]
    },
    {
      "cell_type": "code",
      "source": [
        "# # Define model\n",
        "# model = nn.Sequential(\n",
        "#     nn.Linear(28*28, 64),\n",
        "#     nn.ReLU(),\n",
        "#     nn.Linear(64, 64),\n",
        "#     nn.ReLU(),\n",
        "#     nn.Dropout(0.1), # If we're overfitting\n",
        "#     nn.Linear(64, 10)\n",
        "# )\n",
        "\n",
        "# Define a more flexible model\n",
        "class ResNet(nn.Module):\n",
        "  def __init__(self):\n",
        "    super().__init__()\n",
        "    self.l1 = nn.Linear(28*28, 64)\n",
        "    self.l2 = nn.Linear(64,64)\n",
        "    self.l3 = nn.Linear(64,10)\n",
        "    self.do = nn.Dropout(0.1)\n",
        "\n",
        "  def forward(self, x):\n",
        "    h1 = nn.functional.relu(self.l1(x))\n",
        "    h2 = nn.functional.relu(self.l2(h1))\n",
        "    do = self.do(h2+h1) # if h2 is not necessary, the network will set the bias of module l2 to very negative value, such that the ReLU gonna be setting to zero the value from L2.\n",
        "    logits = self.l3(do)\n",
        "    return logits\n",
        "\n",
        "# model = ResNet()\n",
        "model = ResNet().cuda() # GPU 사용"
      ],
      "metadata": {
        "id": "s40W9mkLrTL_"
      },
      "execution_count": 2,
      "outputs": []
    },
    {
      "cell_type": "code",
      "source": [
        "from torch import optim\n",
        "\n",
        "# Define optimizer\n",
        "params = model.parameters()\n",
        "optimizer = optim.SGD(params, lr=1e-2)"
      ],
      "metadata": {
        "id": "_3lHrW9qsgoB"
      },
      "execution_count": 3,
      "outputs": []
    },
    {
      "cell_type": "code",
      "source": [
        "# Define my loss\n",
        "loss = nn.CrossEntropyLoss()"
      ],
      "metadata": {
        "id": "hG9C-B4as0N-"
      },
      "execution_count": 4,
      "outputs": []
    },
    {
      "cell_type": "code",
      "source": [
        "# Train, Val split\n",
        "from torchvision import datasets, transforms\n",
        "from torch.utils.data import random_split, DataLoader\n",
        "\n",
        "train_data = datasets.MNIST('data', train=True, download=True, transform=transforms.ToTensor())\n",
        "train, val = random_split(train_data, [55000, 5000])\n",
        "train_loader = DataLoader(train, batch_size=32)\n",
        "val_loader = DataLoader(val, batch_size=32)"
      ],
      "metadata": {
        "colab": {
          "base_uri": "https://localhost:8080/"
        },
        "id": "xO6V3RIs0ZnQ",
        "outputId": "b8fa5f86-5808-493e-f665-96857f083f53"
      },
      "execution_count": 5,
      "outputs": [
        {
          "output_type": "stream",
          "name": "stdout",
          "text": [
            "Downloading http://yann.lecun.com/exdb/mnist/train-images-idx3-ubyte.gz\n",
            "Failed to download (trying next):\n",
            "HTTP Error 403: Forbidden\n",
            "\n",
            "Downloading https://ossci-datasets.s3.amazonaws.com/mnist/train-images-idx3-ubyte.gz\n",
            "Downloading https://ossci-datasets.s3.amazonaws.com/mnist/train-images-idx3-ubyte.gz to data/MNIST/raw/train-images-idx3-ubyte.gz\n"
          ]
        },
        {
          "output_type": "stream",
          "name": "stderr",
          "text": [
            "100%|██████████| 9912422/9912422 [00:00<00:00, 12569421.24it/s]\n"
          ]
        },
        {
          "output_type": "stream",
          "name": "stdout",
          "text": [
            "Extracting data/MNIST/raw/train-images-idx3-ubyte.gz to data/MNIST/raw\n",
            "\n",
            "Downloading http://yann.lecun.com/exdb/mnist/train-labels-idx1-ubyte.gz\n",
            "Failed to download (trying next):\n",
            "HTTP Error 403: Forbidden\n",
            "\n",
            "Downloading https://ossci-datasets.s3.amazonaws.com/mnist/train-labels-idx1-ubyte.gz\n",
            "Downloading https://ossci-datasets.s3.amazonaws.com/mnist/train-labels-idx1-ubyte.gz to data/MNIST/raw/train-labels-idx1-ubyte.gz\n"
          ]
        },
        {
          "output_type": "stream",
          "name": "stderr",
          "text": [
            "100%|██████████| 28881/28881 [00:00<00:00, 345670.39it/s]\n"
          ]
        },
        {
          "output_type": "stream",
          "name": "stdout",
          "text": [
            "Extracting data/MNIST/raw/train-labels-idx1-ubyte.gz to data/MNIST/raw\n",
            "\n",
            "Downloading http://yann.lecun.com/exdb/mnist/t10k-images-idx3-ubyte.gz\n",
            "Failed to download (trying next):\n",
            "HTTP Error 403: Forbidden\n",
            "\n",
            "Downloading https://ossci-datasets.s3.amazonaws.com/mnist/t10k-images-idx3-ubyte.gz\n",
            "Downloading https://ossci-datasets.s3.amazonaws.com/mnist/t10k-images-idx3-ubyte.gz to data/MNIST/raw/t10k-images-idx3-ubyte.gz\n"
          ]
        },
        {
          "output_type": "stream",
          "name": "stderr",
          "text": [
            "100%|██████████| 1648877/1648877 [00:00<00:00, 3131112.36it/s]\n"
          ]
        },
        {
          "output_type": "stream",
          "name": "stdout",
          "text": [
            "Extracting data/MNIST/raw/t10k-images-idx3-ubyte.gz to data/MNIST/raw\n",
            "\n",
            "Downloading http://yann.lecun.com/exdb/mnist/t10k-labels-idx1-ubyte.gz\n",
            "Failed to download (trying next):\n",
            "HTTP Error 403: Forbidden\n",
            "\n",
            "Downloading https://ossci-datasets.s3.amazonaws.com/mnist/t10k-labels-idx1-ubyte.gz\n",
            "Downloading https://ossci-datasets.s3.amazonaws.com/mnist/t10k-labels-idx1-ubyte.gz to data/MNIST/raw/t10k-labels-idx1-ubyte.gz\n"
          ]
        },
        {
          "output_type": "stream",
          "name": "stderr",
          "text": [
            "100%|██████████| 4542/4542 [00:00<00:00, 3130736.03it/s]"
          ]
        },
        {
          "output_type": "stream",
          "name": "stdout",
          "text": [
            "Extracting data/MNIST/raw/t10k-labels-idx1-ubyte.gz to data/MNIST/raw\n",
            "\n"
          ]
        },
        {
          "output_type": "stream",
          "name": "stderr",
          "text": [
            "\n"
          ]
        }
      ]
    },
    {
      "cell_type": "code",
      "source": [
        "# Training and validation loops\n",
        "epochs = 5\n",
        "for epoch in range(epochs):\n",
        "  losses = list()\n",
        "  accuracies = list()\n",
        "  model.train() # set the model as training mode, because I use Dropout\n",
        "\n",
        "  for batch in train_loader:\n",
        "    x, y = batch\n",
        "\n",
        "    # x : batch size x channel x 28 x 28\n",
        "    b = x.size(0) # batch size\n",
        "    # x = x.view(b, -1)\n",
        "    x = x.view(b, -1).cuda() # send x to cuda\n",
        "\n",
        "    # 1) forward\n",
        "    l = model(x) # l stands for logits (logits is the last output of the model)\n",
        "\n",
        "    # 2) compute the objective function\n",
        "    # J = loss(l, y)\n",
        "    J = loss(l, y.cuda())\n",
        "\n",
        "    # 3) cleaning the gradients\n",
        "    model.zero_grad() # 'params.grad' is set to zero. So this is equivalent to 'params.grad.zero_()' or 'optimizer.zero_grad()'\n",
        "\n",
        "    # 4) accumulate the partial derivatives of J w.r.t. params\n",
        "    J.backward() # 'params.grad' is computed.  This is equivalent to 'params.grad.add_(dJ/dparams)'. We only keep the latest gradient\n",
        "\n",
        "    # 5) step in the opposite direction of the gradient (update parameter)\n",
        "    optimizer.step() # params = params - eta * params.grad  (eta : learning rate)\n",
        "\n",
        "    losses.append(J.item())\n",
        "    accuracies.append(y.eq(l.detach().argmax(dim=1).cpu()).float().mean())\n",
        "\n",
        "  print(f'Epoch : {epoch + 1}', end=\", \")\n",
        "  print(f'training loss : {torch.tensor(losses).mean():.2f}', end=\", \")\n",
        "  print(f'training accuracy : {torch.tensor(accuracies).mean():.2f}')\n",
        "\n",
        "  losses = list()\n",
        "  accuracies = list()\n",
        "  model.eval() # because I use Dropout, I have to set the model evaluation mode\n",
        "\n",
        "  for batch in val_loader:\n",
        "    x, y = batch\n",
        "\n",
        "    # x : batch size x channel x 28 x 28\n",
        "    b = x.size(0) # batch size\n",
        "    # x = x.view(b, -1)\n",
        "    x = x.view(b, -1).cuda()\n",
        "\n",
        "    # 1) forward\n",
        "    with torch.no_grad(): # don't compute gradient\n",
        "      l = model(x) # l stands for logits (logits is the last output of the model)\n",
        "\n",
        "      # 2) compute the objective function\n",
        "      # J = loss(l, y)\n",
        "      J = loss(l, y.cuda())\n",
        "\n",
        "      losses.append(J.item())\n",
        "      accuracies.append(y.eq(l.detach().argmax(dim=1).cpu()).float().mean())\n",
        "\n",
        "  print(f'Epoch : {epoch + 1}', end=\", \")\n",
        "  print(f'validation loss : {torch.tensor(losses).mean():.2f}', end=\", \")\n",
        "  print(f'validation accuracy : {torch.tensor(accuracies).mean():.2f}')"
      ],
      "metadata": {
        "id": "6c0oze8ztDRm",
        "colab": {
          "base_uri": "https://localhost:8080/"
        },
        "outputId": "67a7d5b2-70d9-4158-add4-f6705de95a27"
      },
      "execution_count": 6,
      "outputs": [
        {
          "output_type": "stream",
          "name": "stdout",
          "text": [
            "Epoch : 1, training loss : 0.86, training accuracy : 0.78\n",
            "Epoch : 1, validation loss : 0.40, validation accuracy : 0.89\n",
            "Epoch : 2, training loss : 0.38, training accuracy : 0.89\n",
            "Epoch : 2, validation loss : 0.33, validation accuracy : 0.91\n",
            "Epoch : 3, training loss : 0.31, training accuracy : 0.91\n",
            "Epoch : 3, validation loss : 0.28, validation accuracy : 0.92\n",
            "Epoch : 4, training loss : 0.27, training accuracy : 0.92\n",
            "Epoch : 4, validation loss : 0.25, validation accuracy : 0.93\n",
            "Epoch : 5, training loss : 0.24, training accuracy : 0.93\n",
            "Epoch : 5, validation loss : 0.23, validation accuracy : 0.94\n"
          ]
        }
      ]
    },
    {
      "cell_type": "code",
      "source": [],
      "metadata": {
        "id": "SxJhv29NuIjf"
      },
      "execution_count": 6,
      "outputs": []
    }
  ]
}